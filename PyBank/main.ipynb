{
 "cells": [
  {
   "cell_type": "code",
   "execution_count": 15,
   "metadata": {},
   "outputs": [],
   "source": [
    "# Import the pathlib and csv library\n",
    "from pathlib import Path\n",
    "import csv\n"
   ]
  },
  {
   "cell_type": "code",
   "execution_count": 16,
   "metadata": {},
   "outputs": [],
   "source": [
    "# Set the file path\n",
    "csvpath = Path('Resources/budget_data.csv')"
   ]
  },
  {
   "cell_type": "code",
   "execution_count": 17,
   "metadata": {},
   "outputs": [],
   "source": [
    "# Initialize line_num variable\n",
    "line_num = 0"
   ]
  },
  {
   "cell_type": "code",
   "execution_count": 18,
   "metadata": {},
   "outputs": [
    {
     "name": "stdout",
     "output_type": "stream",
     "text": [
      "Financial Analysis\n",
      "----------------------------\n",
      "Total Months: 86\n",
      "Total: $38382578\n",
      "Average Change: -2315.12\n",
      "Greatest Increase in Profits: Feb-2012 ($1926159)\n",
      "Greatest Decrease in Profits: Sep-2013 ($-2196167)\n"
     ]
    }
   ],
   "source": [
    "# Open the input path as a file object\n",
    "with open(csvpath, 'r') as csvfile:\n",
    "    \n",
    "    # Create empty lists to iterate through specific rows for the following vaiables\n",
    "    total_months = []\n",
    "    total_profit = []\n",
    "    monthly_profit_change = []\n",
    "    \n",
    "    # Pass in the csv file to the csv.reader() function\n",
    "    # (with ',' as the delmiter/separator) and return the csvreader object\n",
    "    csvreader = csv.reader(csvfile, delimiter=',')\n",
    "    \n",
    "    # Go to the next row from the start of the file\n",
    "    # (which is often the first row/header) and iterate line_num by 1\n",
    "    header = next(csvreader)\n",
    "    line_num += 1\n",
    "    \n",
    "    # Iterate through the rows in the stored contents\n",
    "    for row in csvreader:         \n",
    "        \n",
    "        # Append the total months and total profits to their assocaited lists\n",
    "        total_months.append(row[0])\n",
    "        total_profit.append(int(row[1]))\n",
    "                \n",
    "    # Iterate through the profits in ordr to get the monthly change in profits\n",
    "    for i in range(len(total_profit)-1):\n",
    "        \n",
    "        #The difference between two months and append to monthly profit change\n",
    "        monthly_profit_change.append(total_profit[i+1]-total_profit[i])\n",
    "        \n",
    "    # Need to find max and min of the montly profits from the list\n",
    "    max_increase_value = max(monthly_profit_change)\n",
    "    max_decrease_value = min(monthly_profit_change)\n",
    "    \n",
    "    # Correlate max and min to the proper month using month list and index from max and min\n",
    "    max_increase_month = monthly_profit_change.index(max(monthly_profit_change)) + 1\n",
    "    max_decrease_month = monthly_profit_change.index(min(monthly_profit_change)) + 1\n",
    "\n",
    "    print(\"Financial Analysis\")\n",
    "    print(\"----------------------------\")\n",
    "    print(f\"Total Months: {len(total_months)}\")\n",
    "    print(f\"Total: ${sum(total_profit)}\")\n",
    "    print(f\"Average Change: {round(sum(monthly_profit_change)/len(monthly_profit_change),2)}\")\n",
    "    print(f\"Greatest Increase in Profits: {total_months[max_increase_month]} (${(str(max_increase_value))})\")\n",
    "    print(f\"Greatest Decrease in Profits: {total_months[max_decrease_month]} (${(str(max_decrease_value))})\")\n",
    "    \n",
    "    # Output files\n",
    "\n",
    "    output_file = Path(\"analysis_output.txt\")  \n",
    "    \n",
    "    with open(output_file,'w') as op: \n",
    "        print(\"Financial Analysis\",file=op)\n",
    "        print(\"----------------------------\",file=op)\n",
    "        print(f\"Total Months: {len(total_months)}\",file=op)\n",
    "        print(f\"Total: ${sum(total_profit)}\",file=op)\n",
    "        print(f\"Average Change: {round(sum(monthly_profit_change)/len(monthly_profit_change),2)}\",file=op)\n",
    "        print(f\"Greatest Increase in Profits: {total_months[max_increase_month]} (${(str(max_increase_value))})\",file=op)\n",
    "        print(f\"Greatest Decrease in Profits: {total_months[max_decrease_month]} (${(str(max_decrease_value))})\",file=op)"
   ]
  }
 ],
 "metadata": {
  "kernelspec": {
   "display_name": "Python 3",
   "language": "python",
   "name": "python3"
  },
  "language_info": {
   "codemirror_mode": {
    "name": "ipython",
    "version": 3
   },
   "file_extension": ".py",
   "mimetype": "text/x-python",
   "name": "python",
   "nbconvert_exporter": "python",
   "pygments_lexer": "ipython3",
   "version": "3.8.5"
  }
 },
 "nbformat": 4,
 "nbformat_minor": 4
}
